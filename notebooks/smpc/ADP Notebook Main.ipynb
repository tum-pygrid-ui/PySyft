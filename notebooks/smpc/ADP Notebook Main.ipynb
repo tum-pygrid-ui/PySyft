{
 "cells": [
  {
   "cell_type": "code",
   "execution_count": 1,
   "id": "67c2d127-c955-4313-b7d2-c584f037f85b",
   "metadata": {},
   "outputs": [],
   "source": [
    "import syft as sy\n",
    "sy.logger.remove()\n",
    "import numpy as np\n",
    "import pandas as pd\n",
    "data = sy.Tensor(np.array([1,2,3],dtype=np.int32))\n",
    "from syft.core.adp.entity import Entity\n",
    "from syft.core.tensor.smpc.mpc_tensor import MPCTensor\n",
    "import time\n",
    "import uuid\n",
    "from typing import Any\n",
    "from typing import Dict"
   ]
  },
  {
   "cell_type": "code",
   "execution_count": 2,
   "id": "aa74bb27-e8aa-404b-a32f-cdff0c36390b",
   "metadata": {},
   "outputs": [
    {
     "name": "stdout",
     "output_type": "stream",
     "text": [
      "Connecting to http://localhost:9082... done! \t Logging into competent_bach... done!\n",
      "Connecting to http://localhost:9083... done! \t Logging into musing_gardner... done!\n"
     ]
    }
   ],
   "source": [
    "\n",
    "p1 =  sy.login(email=\"info@openmined.org\",password=\"changethis\",port=\"9082\")\n",
    "p2 = sy.login(email=\"info@openmined.org\",password=\"changethis\",port=\"9083\")"
   ]
  },
  {
   "cell_type": "code",
   "execution_count": 3,
   "id": "61aef60e-249b-435d-bd42-83af7f13d780",
   "metadata": {},
   "outputs": [
    {
     "name": "stdout",
     "output_type": "stream",
     "text": [
      "Connecting to http://localhost:9082... done! \t Logging into competent_bach... done!\n"
     ]
    },
    {
     "name": "stderr",
     "output_type": "stream",
     "text": [
      "/tmp/ipykernel_67583/2682176243.py:17: DtypeWarning: Columns (14) have mixed types.Specify dtype option on import or set low_memory=False.\n",
      "  ca_data = load_data(csv_file=\"ca - feb 2021.csv\")\n"
     ]
    },
    {
     "name": "stdout",
     "output_type": "stream",
     "text": [
      "Loading dataset... uploading... SUCCESS!                                                                                                                                      \n",
      "\n",
      "Run <your client variable>.datasets to see your new dataset loaded into your machine!\n",
      "Connecting to http://localhost:9083... done! \t Logging into musing_gardner... done!\n",
      "Loading dataset... uploading... SUCCESS!                                                                                                                                      \n",
      "\n",
      "Run <your client variable>.datasets to see your new dataset loaded into your machine!\n"
     ]
    },
    {
     "name": "stderr",
     "output_type": "stream",
     "text": [
      "/tmp/ipykernel_67583/2682176243.py:52: DtypeWarning: Columns (14) have mixed types.Specify dtype option on import or set low_memory=False.\n",
      "  it_data = load_data(csv_file=\"it - feb 2021.csv\")\n"
     ]
    }
   ],
   "source": [
    "ROOT_DIR = \"/home/rasswanth/PySyft\"\n",
    "def load_data(csv_file: str) -> pd.DataFrame:\n",
    "    return pd.read_csv(f\"{ROOT_DIR}/notebooks/trade_demo/datasets/{csv_file}\")[0:10]\n",
    "\n",
    "def get_user_details(unique_email: str) -> Dict[str, Any]:\n",
    "    return {\n",
    "        \"name\": \"Sheldon Cooper\",\n",
    "        \"email\": unique_email,\n",
    "        \"password\": \"bazinga\",\n",
    "        \"budget\": 10,\n",
    "    }\n",
    "\n",
    "unique_email = f\"{uuid.uuid4()}@caltech.edu\"\n",
    "\n",
    "# Canada\n",
    "ca_root = sy.login(email=\"info@openmined.org\", password=\"changethis\", port=9082)\n",
    "ca_data = load_data(csv_file=\"ca - feb 2021.csv\")\n",
    "\n",
    "# NOTE: casting this tensor as np.int32 is REALLY IMPORTANT\n",
    "canada_trade = (\n",
    "    (np.array(list(ca_data[\"Trade Value (US$)\"])) / 100000)[0:10]\n",
    ").astype(np.int32)\n",
    "trade_partners = ((list(ca_data[\"Partner\"])))[0:10]\n",
    "\n",
    "entities = list()\n",
    "for i in range(len(trade_partners)):\n",
    "    entities.append(Entity(name=trade_partners[i]))\n",
    "\n",
    "sampled_canada_dataset = sy.Tensor(canada_trade)\n",
    "sampled_canada_dataset.public_shape = sampled_canada_dataset.shape\n",
    "sampled_canada_dataset = sampled_canada_dataset.private(\n",
    "    0, 3, entities=entities[0]\n",
    ").tag(\"trade_flow\")\n",
    "\n",
    "# load dataset\n",
    "ca_root.load_dataset(\n",
    "    assets={\"Canada Trade\": sampled_canada_dataset},\n",
    "    name=\"Canada Trade Data - First few rows\",\n",
    "    description=(\n",
    "        \"A collection of reports from Canada's statistics bureau about how \"\n",
    "        + \"much it thinks it imports and exports from other countries.\"\n",
    "    ),\n",
    "    skip_checks=True,\n",
    ")\n",
    "\n",
    "assert len(ca_root.datasets) > 0\n",
    "\n",
    "\n",
    "\n",
    "# Italy\n",
    "it_root = sy.login(email=\"info@openmined.org\", password=\"changethis\", port=9083)\n",
    "it_data = load_data(csv_file=\"it - feb 2021.csv\")\n",
    "# NOTE: casting this tensor as np.int32 is REALLY IMPORTANT\n",
    "data_batch = ((np.array(list(it_data[\"Trade Value (US$)\"])) / 100000)[0:10]).astype(\n",
    "    np.int32\n",
    ")\n",
    "trade_partners = ((list(it_data[\"Partner\"])))[0:10]\n",
    "\n",
    "entities = list()\n",
    "for i in range(len(trade_partners)):\n",
    "    entities.append(Entity(name=\"Other Asia, nes\"))\n",
    "\n",
    "# Upload a private dataset to the Domain object, as the root owner\n",
    "sampled_italy_dataset = sy.Tensor(data_batch)\n",
    "sampled_italy_dataset.public_shape = sampled_italy_dataset.shape\n",
    "sampled_italy_dataset = sampled_italy_dataset.private(\n",
    "    0, 3, entities=entities[0]\n",
    ").tag(\"trade_flow\")\n",
    "\n",
    "it_root.load_dataset(\n",
    "    assets={\"Italy Trade\": sampled_italy_dataset},\n",
    "    name=\"Italy Trade Data - First few rows\",\n",
    "    description=(\n",
    "        \"A collection of reports from iStat's statistics bureau about how \"\n",
    "        + \"much it thinks it imports and exports from other countries.\"\n",
    "    ),\n",
    "    skip_checks=True,\n",
    ")\n",
    "\n"
   ]
  },
  {
   "cell_type": "code",
   "execution_count": 4,
   "id": "61a48e46-80d3-460d-b6de-5ccc46daf72b",
   "metadata": {
    "tags": []
   },
   "outputs": [],
   "source": [
    "x = p1.datasets[-1][\"Canada Trade\"]"
   ]
  },
  {
   "cell_type": "code",
   "execution_count": 5,
   "id": "c540159d-499d-4f13-9563-714f7bac8dcf",
   "metadata": {
    "tags": []
   },
   "outputs": [],
   "source": [
    "y = p2.datasets[-1][\"Italy Trade\"]"
   ]
  },
  {
   "cell_type": "code",
   "execution_count": null,
   "id": "d4c78828-7e94-42fc-b268-0b883a7e1100",
   "metadata": {},
   "outputs": [],
   "source": []
  },
  {
   "cell_type": "code",
   "execution_count": null,
   "id": "0c93eee9-02cf-4a4e-852c-85977c8b2578",
   "metadata": {},
   "outputs": [],
   "source": [
    "t=x*y"
   ]
  },
  {
   "cell_type": "code",
   "execution_count": null,
   "id": "f96fccc1-1afa-44dd-ab81-bc85d2287da1",
   "metadata": {},
   "outputs": [],
   "source": [
    "t1 = x.get_copy()"
   ]
  },
  {
   "cell_type": "code",
   "execution_count": null,
   "id": "36e7d594-f6f8-449b-99f2-433eb5b4ea4b",
   "metadata": {},
   "outputs": [],
   "source": [
    "t2 = y.get_copy()"
   ]
  },
  {
   "cell_type": "code",
   "execution_count": null,
   "id": "1f5a8411-c356-4140-8e5e-712c025cc5a7",
   "metadata": {},
   "outputs": [],
   "source": [
    "t = x+y"
   ]
  },
  {
   "cell_type": "code",
   "execution_count": null,
   "id": "2465bce6-5143-429e-bad5-6672d12b4bdf",
   "metadata": {},
   "outputs": [],
   "source": [
    "i = t.child[0].get_copy()"
   ]
  },
  {
   "cell_type": "code",
   "execution_count": null,
   "id": "8b40c9c4-0ac0-4962-9822-b513772525d3",
   "metadata": {},
   "outputs": [],
   "source": [
    "j = t.child[1].get_copy()"
   ]
  },
  {
   "cell_type": "code",
   "execution_count": null,
   "id": "46e77d8e-78f5-4703-b911-622dddbc2ea2",
   "metadata": {},
   "outputs": [],
   "source": [
    "n= x>y"
   ]
  },
  {
   "cell_type": "code",
   "execution_count": null,
   "id": "d356f8a2-4203-464d-aaf7-ea09fcace3a3",
   "metadata": {},
   "outputs": [],
   "source": [
    "i"
   ]
  },
  {
   "cell_type": "code",
   "execution_count": null,
   "id": "a5e3fe9e-bdd6-40ac-bb68-af2d9b7f9618",
   "metadata": {},
   "outputs": [],
   "source": []
  },
  {
   "cell_type": "code",
   "execution_count": null,
   "id": "c8e421e5-c3b9-4d51-9826-e7a20f767abb",
   "metadata": {},
   "outputs": [],
   "source": []
  },
  {
   "cell_type": "code",
   "execution_count": null,
   "id": "e78cb799-60ee-4ab2-b8cd-76de04581a3a",
   "metadata": {},
   "outputs": [],
   "source": []
  },
  {
   "cell_type": "code",
   "execution_count": null,
   "id": "6bbef10d-a83e-418b-ae80-e226641b837c",
   "metadata": {},
   "outputs": [],
   "source": []
  },
  {
   "cell_type": "code",
   "execution_count": null,
   "id": "aec5ef4b-2d47-4150-befc-b0703c2a8e03",
   "metadata": {},
   "outputs": [],
   "source": []
  },
  {
   "cell_type": "code",
   "execution_count": null,
   "id": "93a79b31-f9fa-4f33-8718-ce29ed6ca44d",
   "metadata": {},
   "outputs": [],
   "source": [
    "public_result = t.publish(sigma=2)"
   ]
  },
  {
   "cell_type": "code",
   "execution_count": null,
   "id": "f3755dd6-13d3-4df9-96f6-8e291b24cf7c",
   "metadata": {},
   "outputs": [],
   "source": [
    "t.get()"
   ]
  },
  {
   "cell_type": "code",
   "execution_count": null,
   "id": "dddf758c-5b9d-4397-9140-4dd03e9c1f8d",
   "metadata": {},
   "outputs": [],
   "source": [
    "time.sleep(5)\n",
    "sycure_result = public_result.get()\n",
    "print(\"sycure_result\", sycure_result)\n",
    "print(\"after ca\", ca.privacy_budget)\n",
    "print(\"after it\", it.privacy_budget)\n",
    "\n",
    "assert len(sycure_result) == 10\n",
    "assert sum(sycure_result) > -100\n",
    "assert sum(sycure_result) < 100\n",
    "\n",
    "assert ca.privacy_budget < 200\n",
    "assert ca.privacy_budget > 10\n",
    "assert it.privacy_budget < 200\n",
    "assert it.privacy_budget > 10\n",
    "assert ca.privacy_budget == it.privacy_budget"
   ]
  },
  {
   "cell_type": "code",
   "execution_count": null,
   "id": "983f5748-be7a-4270-80ea-dae37565fe22",
   "metadata": {},
   "outputs": [],
   "source": []
  },
  {
   "cell_type": "code",
   "execution_count": null,
   "id": "1ade5fe6-e98e-462b-9364-219d55ce6444",
   "metadata": {},
   "outputs": [],
   "source": []
  }
 ],
 "metadata": {
  "kernelspec": {
   "display_name": "Python 3 (ipykernel)",
   "language": "python",
   "name": "python3"
  },
  "language_info": {
   "codemirror_mode": {
    "name": "ipython",
    "version": 3
   },
   "file_extension": ".py",
   "mimetype": "text/x-python",
   "name": "python",
   "nbconvert_exporter": "python",
   "pygments_lexer": "ipython3",
   "version": "3.9.4"
  }
 },
 "nbformat": 4,
 "nbformat_minor": 5
}
