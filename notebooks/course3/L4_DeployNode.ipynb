{
 "cells": [
  {
   "cell_type": "markdown",
   "id": "88c79f5b",
   "metadata": {},
   "source": [
    "# Lesson 4: Deploy your first domain node with Hagrid\n",
    "\n",
    "This tutorial is a step-by-step walkthrough of how to <b>setup your domain node </b> for the very first time. This will enable you to start your peer-to-peer network of data owner and data scientists and collectively train AI models using PySyft.\n",
    "\n",
    "We assume minimal prior knowledge for the setup and cover instructions to install the prerequisites for most platfroms (Linux, Windows, MacOS)."
   ]
  },
  {
   "cell_type": "markdown",
   "id": "dfffcf9f",
   "metadata": {},
   "source": [
    "## Steps\n",
    "\n",
    "### <b> 1. Get the PySyft source code: </b>\n",
    "\n",
    "PySyft is a open-source Python library that enables <b>secure and private machine learning computations</b>.\n",
    "\n",
    "To deploy PySyft computations <b>easier</b> in our nodes, we will use <b>Hagrid (Happy Automation for PyGRID) </b> during the rest of the tutorial, which is a command-line tool that is part of the OpenMined tech stack.\n",
    "\n",
    "The PySyft code is available at <a href=\"https://github.com/OpenMined/PySyft\">this GitHub link</a>. The first step is to clone the repository into a folder of your choice, using your terminal."
   ]
  },
  {
   "cell_type": "markdown",
   "id": "973d2e7b-dd5c-4abc-a9f7-dad437f69ed3",
   "metadata": {},
   "source": [
    "```\n",
    "# Clone the repository and move inside it\n",
    "git clone https://github.com/OpenMined/PySyft && cd PySyft\n",
    "```"
   ]
  },
  {
   "cell_type": "markdown",
   "id": "81e3508a-95c8-4c8e-be6f-717062c881ff",
   "metadata": {},
   "source": [
    "```\n",
    "# Fetch any changes\n",
    "git fetch origin dev\n",
    "```"
   ]
  },
  {
   "cell_type": "markdown",
   "id": "a3b53684-26a1-4e5f-bf69-3db99b6d3eef",
   "metadata": {},
   "source": [
    "```\n",
    "# Checkout the relevant branch <--- This may be the default branch\n",
    "git checkout dev\n",
    "```"
   ]
  },
  {
   "cell_type": "markdown",
   "id": "58cd9920",
   "metadata": {},
   "source": [
    "### <b>2. Setup Docker</a></b>\n",
    "\n",
    "If you don't have Docker installed, you may follow the instructions <a href=\"https://docs.docker.com/get-docker/\">here</a>. We rely on docker and docker-composite to orchestrate the collection of domain and network nodes.\n",
    "\n",
    "Once you've installed Docker, please ensure:\n",
    "- it has at least <b> 8GB of available RAM. </b> You can make due with less, Docker will just be a bit slower.\n",
    "    If you're not sure how to check how much RAM Docker is able to access, then:\n",
    "    - macOS/Windows: Open <a href=\"https://www.docker.com/products/docker-desktop\">Docker Desktop</a>, click the gear icon in the top right corner, go to Resources, and move the scrollbar.\n",
    "    - Linux: No action needed; Docker will automatically scale its RAM usage.\n",
    "    - Cloud: Follow the above steps, depending on which platform your instance uses.\n",
    "\n",
    "- <b>Docker Compose V2</b> is installed and enabled:\n",
    "    - macOS/Windows: The docker-compose should be enabled by default, but you can check in Docker Desktop, under Preferences/Settings -> Experimental features that the Docker Compose V2 box is checked\n",
    "    - Linux: You can install it using <a href=\"https://docs.docker.com/compose/cli-command/#installing-compose-v2\">these instructions</a>"
   ]
  },
  {
   "cell_type": "markdown",
   "id": "bbc9d2b1",
   "metadata": {},
   "source": [
    "### <b>3. Create a Virtual Environment </b>\n",
    "\n",
    "The easiest way to have all prerequisties installed is using a virtual environment manager. We recommend <a href=\"https://conda.io\">conda</a>, which can be installed at <a href=\"https://docs.conda.io/projects/conda/en/latest/user-guide/install/index.html\">this link</a>.\n",
    "\n",
    "Once that's done, you can create a new env (named <i>lab</i> below) using the following commands into your terminal:"
   ]
  },
  {
   "cell_type": "markdown",
   "id": "45c692ff-a801-41c7-9c0a-c7e837420c96",
   "metadata": {},
   "source": [
    "```\n",
    "# Using Conda as an example\n",
    "conda create -n lab python=3.9\n",
    "# Activate it:\n",
    "conda activate lab\n",
    "\n",
    "# Note: to exit the current env, you can use the following command:\n",
    "conda deactivate lab\n",
    "```"
   ]
  },
  {
   "cell_type": "markdown",
   "id": "bf4c3d61",
   "metadata": {},
   "source": [
    "### <b>4. Install & launch HAGrid</b>\n",
    "\n",
    "As mentioned above, HAGrid helps us to deploy a domain or network node via only one command line. This makes it easy for you to focus on what's important: handling the data and training the model."
   ]
  },
  {
   "cell_type": "markdown",
   "id": "47a905e9-3e43-4555-b45a-a1878070d56d",
   "metadata": {},
   "source": [
    "Within the PySyft repository you cloned, move to the appropiate directory and install from local source\n",
    "```\n",
    "cd packages/hagrid && pip install -e .\n",
    "```"
   ]
  },
  {
   "cell_type": "markdown",
   "id": "f6c9aba1-b56e-49fa-bb3a-c40412f07cef",
   "metadata": {},
   "source": [
    "Launch HAGrid specifying the name and the type of the node. \n",
    "The type of the node can be either a 'domain' node, or a 'network' node. For Course 3, we'll be only working with Domain nodes.\n",
    "```\n",
    "hagrid launch <node_name> domain\n",
    "```"
   ]
  },
  {
   "cell_type": "markdown",
   "id": "281b5ed2",
   "metadata": {},
   "source": [
    "### <b>5. Install & launch Syft </b>"
   ]
  },
  {
   "cell_type": "markdown",
   "id": "1624f06b-accc-439a-a497-637d08f3be0b",
   "metadata": {},
   "source": [
    "Install from source (PySyft/packages/syft)\n",
    "```\n",
    "cd ../packages/syft && pip install -e .\n",
    "```"
   ]
  },
  {
   "cell_type": "markdown",
   "id": "53b80143",
   "metadata": {},
   "source": [
    "### <b>6. Login to the Domain!</b>\n",
    "\n",
    "\n",
    "<i>Voila!</i> You now have a working domain node. You can manage your deployment as a data owner either in the browser through the PyGrid Admin UI, by doing requests to the available endpoints using the REST API and Postman or directly interact with from code in a Jupyter Notebook like this one!\n",
    "\n",
    "\n",
    "##### Using PyGrid Admin UI\n",
    "To navigate to the Admin UI, go to <b>localhost:port_number</b> in your browser (port_number is 8081 by default) and login with your credentials.\n",
    "\n",
    "The default username and password are as follows:\n",
    "\n",
    "- Username: <b> info@openmined.org </b>\n",
    "- PW: <b> changethis </b>\n",
    "\n",
    "\n",
    "##### Using Postman\n",
    "If you would like to interact with the node via requests, the available endpoints can be found at<a href=\"http://localhost:8081/api/v1/openapi.json/\">localhost:port_number/api/v1/openapi.json/</a>.\n",
    "To access them in Postman, the following environment variables need to be set:\n",
    "- baseUrl: <b> localhost:port_number </b>\n",
    "- login_email: <b> info@openmined.org </b>\n",
    "- login_password: <b> changethis </b>\n",
    "- auth_token: <b> described below </b>\n",
    "\n",
    "To obtain the auth token, you can do a POST request at {{<b>baseUrl</b>}}/api/v1/openapi.json containing the <i>email</i> and <i>passowrd</i> fields.\n",
    "\n",
    "##### Using the Jupyter Notebook\n",
    "PySyft provides a programatic interface to easily manage and work with your node without worrying about the endpoints.\n",
    "\n",
    "Connecting to the domain node, it is as easy as running:"
   ]
  },
  {
   "cell_type": "code",
   "execution_count": 1,
   "id": "57c7fe20",
   "metadata": {},
   "outputs": [
    {
     "name": "stdout",
     "output_type": "stream",
     "text": [
      "Connecting to http://localhost:8081... done! \t Logging into adp... done!\n"
     ]
    }
   ],
   "source": [
    "import syft as sy\n",
    "domain = sy.login(email='info@openmined.org', password='changethis', port=8081)"
   ]
  },
  {
   "cell_type": "markdown",
   "id": "ae9c5ddf",
   "metadata": {},
   "source": [
    "To query the domain, you can look into the following:"
   ]
  },
  {
   "cell_type": "code",
   "execution_count": 2,
   "id": "70ca8995",
   "metadata": {},
   "outputs": [
    {
     "data": {
      "text/html": [
       "<div>\n",
       "<style scoped>\n",
       "    .dataframe tbody tr th:only-of-type {\n",
       "        vertical-align: middle;\n",
       "    }\n",
       "\n",
       "    .dataframe tbody tr th {\n",
       "        vertical-align: top;\n",
       "    }\n",
       "\n",
       "    .dataframe thead th {\n",
       "        text-align: right;\n",
       "    }\n",
       "</style>\n",
       "<table border=\"1\" class=\"dataframe\">\n",
       "  <thead>\n",
       "    <tr style=\"text-align: right;\">\n",
       "      <th></th>\n",
       "      <th>ID</th>\n",
       "      <th>Tags</th>\n",
       "      <th>Description</th>\n",
       "      <th>object_type</th>\n",
       "    </tr>\n",
       "  </thead>\n",
       "  <tbody>\n",
       "    <tr>\n",
       "      <th>0</th>\n",
       "      <td>&lt;UID: 186030b7d825441ea9ca78819bab8b43&gt;</td>\n",
       "      <td>[#0]</td>\n",
       "      <td></td>\n",
       "      <td>&lt;class 'syft.core.tensor.tensor.Tensor'&gt;</td>\n",
       "    </tr>\n",
       "    <tr>\n",
       "      <th>1</th>\n",
       "      <td>&lt;UID: e854f255bdb04bd7a262c90b3e45be15&gt;</td>\n",
       "      <td>[#1]</td>\n",
       "      <td></td>\n",
       "      <td>&lt;class 'syft.core.tensor.tensor.Tensor'&gt;</td>\n",
       "    </tr>\n",
       "    <tr>\n",
       "      <th>2</th>\n",
       "      <td>&lt;UID: b21ad0fedc3b42f8a6457961c392fd62&gt;</td>\n",
       "      <td>[#2]</td>\n",
       "      <td></td>\n",
       "      <td>&lt;class 'syft.core.tensor.tensor.Tensor'&gt;</td>\n",
       "    </tr>\n",
       "    <tr>\n",
       "      <th>3</th>\n",
       "      <td>&lt;UID: cb8e4638e0154717b4b311ab391739e7&gt;</td>\n",
       "      <td>[#3]</td>\n",
       "      <td></td>\n",
       "      <td>&lt;class 'syft.core.tensor.tensor.Tensor'&gt;</td>\n",
       "    </tr>\n",
       "    <tr>\n",
       "      <th>4</th>\n",
       "      <td>&lt;UID: 63284b433b53492eadd4d2541add8cf8&gt;</td>\n",
       "      <td>[#4]</td>\n",
       "      <td></td>\n",
       "      <td>&lt;class 'syft.core.tensor.tensor.Tensor'&gt;</td>\n",
       "    </tr>\n",
       "    <tr>\n",
       "      <th>5</th>\n",
       "      <td>&lt;UID: cb77798fe7ec4c8dad3143b6ffb31da4&gt;</td>\n",
       "      <td>[#5]</td>\n",
       "      <td></td>\n",
       "      <td>&lt;class 'syft.core.tensor.tensor.Tensor'&gt;</td>\n",
       "    </tr>\n",
       "    <tr>\n",
       "      <th>6</th>\n",
       "      <td>&lt;UID: fc73e51fffdd4cbaa85b1be56e1cd480&gt;</td>\n",
       "      <td>[#6]</td>\n",
       "      <td></td>\n",
       "      <td>&lt;class 'syft.core.tensor.tensor.Tensor'&gt;</td>\n",
       "    </tr>\n",
       "    <tr>\n",
       "      <th>7</th>\n",
       "      <td>&lt;UID: acb65e93b4b84a51b906b9c6602979ad&gt;</td>\n",
       "      <td>[#7]</td>\n",
       "      <td></td>\n",
       "      <td>&lt;class 'syft.core.tensor.tensor.Tensor'&gt;</td>\n",
       "    </tr>\n",
       "    <tr>\n",
       "      <th>8</th>\n",
       "      <td>&lt;UID: d8ccd58d062c475ca60e6c7aa6207da9&gt;</td>\n",
       "      <td>[#8]</td>\n",
       "      <td></td>\n",
       "      <td>&lt;class 'syft.core.tensor.tensor.Tensor'&gt;</td>\n",
       "    </tr>\n",
       "    <tr>\n",
       "      <th>9</th>\n",
       "      <td>&lt;UID: b00ebdaf469e421084e62d69ea678b03&gt;</td>\n",
       "      <td>[#9]</td>\n",
       "      <td></td>\n",
       "      <td>&lt;class 'syft.core.tensor.tensor.Tensor'&gt;</td>\n",
       "    </tr>\n",
       "  </tbody>\n",
       "</table>\n",
       "</div>"
      ],
      "text/plain": [
       "[<TensorWrappedSingleEntityPhiTensorPointer -> adp:186030b7d825441ea9ca78819bab8b43>, <TensorWrappedSingleEntityPhiTensorPointer -> adp:e854f255bdb04bd7a262c90b3e45be15>, <TensorWrappedSingleEntityPhiTensorPointer -> adp:b21ad0fedc3b42f8a6457961c392fd62>, <TensorWrappedSingleEntityPhiTensorPointer -> adp:cb8e4638e0154717b4b311ab391739e7>, <TensorWrappedSingleEntityPhiTensorPointer -> adp:63284b433b53492eadd4d2541add8cf8>, <TensorWrappedSingleEntityPhiTensorPointer -> adp:cb77798fe7ec4c8dad3143b6ffb31da4>, <TensorWrappedSingleEntityPhiTensorPointer -> adp:fc73e51fffdd4cbaa85b1be56e1cd480>, <TensorWrappedSingleEntityPhiTensorPointer -> adp:acb65e93b4b84a51b906b9c6602979ad>, <TensorWrappedSingleEntityPhiTensorPointer -> adp:d8ccd58d062c475ca60e6c7aa6207da9>, <TensorWrappedSingleEntityPhiTensorPointer -> adp:b00ebdaf469e421084e62d69ea678b03>]"
      ]
     },
     "execution_count": 2,
     "metadata": {},
     "output_type": "execute_result"
    }
   ],
   "source": [
    "domain.store"
   ]
  },
  {
   "cell_type": "code",
   "execution_count": 3,
   "id": "bfb09efa",
   "metadata": {},
   "outputs": [
    {
     "data": {
      "text/html": [
       "<div>\n",
       "<style scoped>\n",
       "    .dataframe tbody tr th:only-of-type {\n",
       "        vertical-align: middle;\n",
       "    }\n",
       "\n",
       "    .dataframe tbody tr th {\n",
       "        vertical-align: top;\n",
       "    }\n",
       "\n",
       "    .dataframe thead th {\n",
       "        text-align: right;\n",
       "    }\n",
       "</style>\n",
       "<table border=\"1\" class=\"dataframe\">\n",
       "  <thead>\n",
       "    <tr style=\"text-align: right;\">\n",
       "      <th></th>\n",
       "    </tr>\n",
       "  </thead>\n",
       "  <tbody>\n",
       "  </tbody>\n",
       "</table>\n",
       "</div>"
      ],
      "text/plain": [
       "[]"
      ]
     },
     "execution_count": 3,
     "metadata": {},
     "output_type": "execute_result"
    }
   ],
   "source": [
    "domain.requests"
   ]
  },
  {
   "cell_type": "code",
   "execution_count": 4,
   "id": "1ab26aeb",
   "metadata": {},
   "outputs": [
    {
     "data": {
      "text/html": [
       "<div>\n",
       "<style scoped>\n",
       "    .dataframe tbody tr th:only-of-type {\n",
       "        vertical-align: middle;\n",
       "    }\n",
       "\n",
       "    .dataframe tbody tr th {\n",
       "        vertical-align: top;\n",
       "    }\n",
       "\n",
       "    .dataframe thead th {\n",
       "        text-align: right;\n",
       "    }\n",
       "</style>\n",
       "<table border=\"1\" class=\"dataframe\">\n",
       "  <thead>\n",
       "    <tr style=\"text-align: right;\">\n",
       "      <th></th>\n",
       "      <th>added_by</th>\n",
       "      <th>allocated_budget</th>\n",
       "      <th>budget</th>\n",
       "      <th>budget_spent</th>\n",
       "      <th>created_at</th>\n",
       "      <th>daa_pdf</th>\n",
       "      <th>email</th>\n",
       "      <th>id</th>\n",
       "      <th>institution</th>\n",
       "      <th>name</th>\n",
       "      <th>role</th>\n",
       "      <th>verify_key</th>\n",
       "      <th>website</th>\n",
       "    </tr>\n",
       "  </thead>\n",
       "  <tbody>\n",
       "    <tr>\n",
       "      <th>0</th>\n",
       "      <td>&lt;syft.lib.python._SyNone object at 0x7f9c79e52...</td>\n",
       "      <td>0.0</td>\n",
       "      <td>5.55</td>\n",
       "      <td>0.000000</td>\n",
       "      <td>2021-11-01 05:24:06.991358</td>\n",
       "      <td>&lt;syft.lib.python._SyNone object at 0x7f9c79e52...</td>\n",
       "      <td>info@openmined.org</td>\n",
       "      <td>1</td>\n",
       "      <td>&lt;syft.lib.python._SyNone object at 0x7f9c79e52...</td>\n",
       "      <td>Jane Doe</td>\n",
       "      <td>Owner</td>\n",
       "      <td>e07db5d214010770d9146551d4dc4f3daf1bb7d9c89e66...</td>\n",
       "      <td>&lt;syft.lib.python._SyNone object at 0x7f9c79e52...</td>\n",
       "    </tr>\n",
       "    <tr>\n",
       "      <th>1</th>\n",
       "      <td>Jane Doe</td>\n",
       "      <td>0.0</td>\n",
       "      <td>100.00</td>\n",
       "      <td>4.885616</td>\n",
       "      <td>2021-11-01 05:27:59.352133</td>\n",
       "      <td>1</td>\n",
       "      <td>sheldon@caltech.edu</td>\n",
       "      <td>2</td>\n",
       "      <td></td>\n",
       "      <td>Sheldon Cooper</td>\n",
       "      <td>Data Scientist</td>\n",
       "      <td>eff162ee3f57400fb11d204cdbfd625d58b229901fdb23...</td>\n",
       "      <td></td>\n",
       "    </tr>\n",
       "  </tbody>\n",
       "</table>\n",
       "</div>"
      ],
      "text/plain": [
       "<syft.core.node.common.client_manager.user_api.UserRequestAPI at 0x7f9c72f7d9d0>"
      ]
     },
     "execution_count": 4,
     "metadata": {},
     "output_type": "execute_result"
    }
   ],
   "source": [
    "domain.users"
   ]
  },
  {
   "cell_type": "markdown",
   "id": "6c86ed01",
   "metadata": {},
   "source": [
    "### 7. Stop the node"
   ]
  },
  {
   "cell_type": "markdown",
   "id": "376add7b-9812-4092-b18b-a2a2a853e5f8",
   "metadata": {},
   "source": [
    "To stop and remove all the Docker Containers associated with the Domain Node, run this command on our Terminal:\n",
    "```\n",
    "hagrid land <node_name>\n",
    "```\n"
   ]
  },
  {
   "cell_type": "code",
   "execution_count": null,
   "id": "7e84ceaa-b367-4a8d-836a-7a2d8bc3d778",
   "metadata": {},
   "outputs": [],
   "source": []
  }
 ],
 "metadata": {
  "kernelspec": {
   "display_name": "Python 3 (ipykernel)",
   "language": "python",
   "name": "python3"
  },
  "language_info": {
   "codemirror_mode": {
    "name": "ipython",
    "version": 3
   },
   "file_extension": ".py",
   "mimetype": "text/x-python",
   "name": "python",
   "nbconvert_exporter": "python",
   "pygments_lexer": "ipython3",
   "version": "3.9.7"
  }
 },
 "nbformat": 4,
 "nbformat_minor": 5
}
