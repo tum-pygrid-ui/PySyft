{
 "cells": [
  {
   "cell_type": "markdown",
   "id": "d59252a1-05b1-485a-a338-8a3d2d6ade71",
   "metadata": {},
   "source": [
    "# Lesson 4: Deploy your first domain node with Hagrid\n",
    "\n",
    "This tutorial is a faster walkthrough of how to <b>setup your domain node </b> for the very first time. This will enable you to start your peer-to-peer network of data owner and data scientists and collectively train AI models using PySyft.\n",
    "\n",
    "We assume you're familiar with Docker, Virtual Environments (such as <a href=\"https://conda.io\">conda</a>, <a href=\"https://docs.python.org/3/library/venv.html\">venv</a>, or <a href=\"https://github.com/pyenv/pyenv\">pyenv</a>), Version Control (such as <a href=\"https://github.com\">git</a>), and provide you a faster route to setting everything up in 6 steps, and in only a few minutes."
   ]
  },
  {
   "cell_type": "markdown",
   "id": "480edc12-a236-4aba-999b-125aa6867a59",
   "metadata": {},
   "source": [
    "## Steps\n",
    "\n",
    "### <b>1. Clone the PySyft repository, fetch and checkout the dev branch: </b>"
   ]
  },
  {
   "cell_type": "markdown",
   "id": "3827af1b-298e-4bcc-996b-d0886009d7a7",
   "metadata": {
    "tags": []
   },
   "source": [
    "```\n",
    "# Clone the repository and move inside it\n",
    "git clone https://github.com/OpenMined/PySyft && cd PySyft\n",
    "```"
   ]
  },
  {
   "cell_type": "markdown",
   "id": "f9b15b97-96e0-4635-af26-2febd6bfd6a5",
   "metadata": {
    "tags": []
   },
   "source": [
    "```\n",
    "# Fetch any changes\n",
    "git fetch origin dev\n",
    "```"
   ]
  },
  {
   "cell_type": "markdown",
   "id": "e4eaae2c-8ae0-45e8-872f-a1800a71aa37",
   "metadata": {},
   "source": [
    "```\n",
    "# Checkout the relevant branch <--- This may be the default branch after cloning the repo!\n",
    "git checkout dev\n",
    "```"
   ]
  },
  {
   "cell_type": "markdown",
   "id": "0bf548ee-c08b-4b29-b0b7-6517404365a4",
   "metadata": {},
   "source": [
    "### <b>2. Launch <a href=\"https://www.docker.com/products/docker-desktop\">Docker Desktop</a>, and ensure it has atleast 8GB of RAM available. </b>\n"
   ]
  },
  {
   "cell_type": "markdown",
   "id": "efb0a50e-5325-4d3c-a46b-cdba9313c389",
   "metadata": {},
   "source": [
    "### <b>3. Create a Virtual Environment with Python 3.9<b>"
   ]
  },
  {
   "cell_type": "markdown",
   "id": "d9ffd959-2b21-4114-bf0b-8b76b1012714",
   "metadata": {},
   "source": [
    "```\n",
    "# Using Conda as an example\n",
    "conda create -n lab python=3.9\n",
    "\n",
    "# Activate it:\n",
    "conda activate lab\n",
    "```"
   ]
  },
  {
   "cell_type": "markdown",
   "id": "e178ea4f-dee9-4f99-8ca9-8f12677a8bae",
   "metadata": {},
   "source": [
    "### <b>4. Install & Launch HAGrid</b>"
   ]
  },
  {
   "cell_type": "markdown",
   "id": "d7c07bb4-5450-4c6e-b237-bea266fc72ca",
   "metadata": {},
   "source": [
    "```\n",
    "# Move to the appropriate directory and install from local source\n",
    "cd packages/hagrid && pip install -e .\n",
    "\n",
    "# Launch HAGrid!\n",
    "hagrid launch <node_name>\n",
    "```"
   ]
  },
  {
   "cell_type": "markdown",
   "id": "96722594-7633-418c-b265-de6dd6abaec8",
   "metadata": {},
   "source": [
    "### <b>5. Install & Launch Syft </b>"
   ]
  },
  {
   "cell_type": "markdown",
   "id": "5b6d3810-8d05-4f55-81b3-dfe3b1e0ceb7",
   "metadata": {},
   "source": [
    "```\n",
    "# Install from source (PySyft/packages/syft)\n",
    "cd packages/syft && pip install -e .\n",
    "```"
   ]
  },
  {
   "cell_type": "markdown",
   "id": "202a168d-3f62-4016-a3db-6c5e469d4f8d",
   "metadata": {},
   "source": [
    "### <b>6. Login to the Domain!</b>\n",
    "\n",
    "\n",
    "<i>Voila!</i> You now have a working domain node. To login, go to <b>localhost:\"port_number\"</b> in your browser (port_number is 8081 by default).\n",
    "\n",
    "The default username and password are as follows:\n",
    "\n",
    "- Username: <b> info@openmined.org </b>\n",
    "- PW: <b> changethis </b>"
   ]
  }
 ],
 "metadata": {
  "kernelspec": {
   "display_name": "Python 3 (ipykernel)",
   "language": "python",
   "name": "python3"
  },
  "language_info": {
   "codemirror_mode": {
    "name": "ipython",
    "version": 3
   },
   "file_extension": ".py",
   "mimetype": "text/x-python",
   "name": "python",
   "nbconvert_exporter": "python",
   "pygments_lexer": "ipython3",
   "version": "3.9.7"
  }
 },
 "nbformat": 4,
 "nbformat_minor": 5
}
