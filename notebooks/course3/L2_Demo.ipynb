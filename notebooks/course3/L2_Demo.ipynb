{
 "cells": [
  {
   "cell_type": "markdown",
   "id": "d59252a1-05b1-485a-a338-8a3d2d6ade71",
   "metadata": {
    "tags": []
   },
   "source": [
    "# Lesson 2: Remote Data Science Demo!\n",
    "\n",
    "In the next 15 minutes, we're going to give you a rapid run through where you as a Data Owner, will prepare a dataset, deploy a domain node, upload that dataset to the domain node.\n",
    "Finally, as a Data Scientist, you'll take this data and perform remote data science on it!\n",
    "\n",
    "If any part of this demo doesn't seem clear right now, don't worry! We'll be walking you through each of these steps in more detail in subsequent lessons."
   ]
  },
  {
   "cell_type": "markdown",
   "id": "480edc12-a236-4aba-999b-125aa6867a59",
   "metadata": {},
   "source": [
    "## Steps\n",
    "\n",
    "Run the following commands in a Terminal:\n",
    "\n",
    "### <b>1. Clone the PySyft repository, fetch and checkout the dev branch: </b>"
   ]
  },
  {
   "cell_type": "markdown",
   "id": "a3ecd822-fd2e-40a0-bf21-3c25647a53c2",
   "metadata": {},
   "source": [
    "```\n",
    "git clone https://github.com/OpenMined/PySyft && cd PySyft\n",
    "git fetch origin dev\n",
    "git checkout dev\n",
    "```"
   ]
  },
  {
   "cell_type": "markdown",
   "id": "0bf548ee-c08b-4b29-b0b7-6517404365a4",
   "metadata": {},
   "source": [
    "### <b>2. Launch <a href=\"https://www.docker.com/products/docker-desktop\">Docker Desktop</a>, and ensure it has atleast 8GB of RAM available. </b>\n"
   ]
  },
  {
   "cell_type": "markdown",
   "id": "efb0a50e-5325-4d3c-a46b-cdba9313c389",
   "metadata": {},
   "source": [
    "### <b>3. Create a Virtual Environment with Python 3.9<b>"
   ]
  },
  {
   "cell_type": "markdown",
   "id": "65be7609-eaf2-46bb-92e5-c87ebec6913b",
   "metadata": {},
   "source": [
    "```\n",
    "conda create -n lab python=3.9\n",
    "conda activate lab\n",
    "```"
   ]
  },
  {
   "cell_type": "markdown",
   "id": "e178ea4f-dee9-4f99-8ca9-8f12677a8bae",
   "metadata": {},
   "source": [
    "### <b>4. Install & Launch HAGrid</b>"
   ]
  },
  {
   "cell_type": "markdown",
   "id": "94b08236-43ea-416d-8def-2ad7228d1252",
   "metadata": {},
   "source": [
    "```\n",
    "cd packages/hagrid && pip install -e .\n",
    "hagrid launch <node_name>\n",
    "```"
   ]
  },
  {
   "cell_type": "markdown",
   "id": "96722594-7633-418c-b265-de6dd6abaec8",
   "metadata": {},
   "source": [
    "### <b>5. Install & Launch Syft </b>"
   ]
  },
  {
   "cell_type": "markdown",
   "id": "f625f754-5c89-4b65-8fe0-ab3825522e00",
   "metadata": {},
   "source": [
    "```\n",
    "cd packages/syft && pip install -e .\n",
    "```"
   ]
  },
  {
   "cell_type": "markdown",
   "id": "202a168d-3f62-4016-a3db-6c5e469d4f8d",
   "metadata": {},
   "source": [
    "### <b>6. Login to the Domain!</b>\n",
    "\n",
    "\n",
    "<i>Voila!</i> You now have a working domain node. To login, go to <b>localhost:\"port_number\"</b> in your browser (port_number is 8081 by default).\n",
    "\n",
    "The default username and password are as follows:\n",
    "\n",
    "- Username: <b> info@openmined.org </b>\n",
    "- PW: <b> changethis </b>"
   ]
  },
  {
   "cell_type": "markdown",
   "id": "b6377bee-1cf4-475e-b256-bef3837ec799",
   "metadata": {},
   "source": [
    "### 7. Upload your Dataset to your Domain!\n",
    "\n",
    "Open Python, and run the following:"
   ]
  },
  {
   "cell_type": "code",
   "execution_count": null,
   "id": "24bf6d91-1004-4b8d-b5e5-0536eb1c3913",
   "metadata": {},
   "outputs": [],
   "source": [
    "import numpy as np\n",
    "import syft as sy\n",
    "from syft.core.adp.entity import Entity\n",
    "\n",
    "raw_data = np.random.choice([0, 1], size=(10)).astype(np.int32)\n",
    "dataset = {}\n",
    "\n",
    "for person_index, test_result in enumerate(raw_data):\n",
    "    data_owner = Entity(name=f'Patient #{person_index}')\n",
    "    dataset[person_index] = sy.Tensor(np.ones(1, dtype=np.int32) * test_result).private(min_val=0, max_val=1, entities=data_owner)\n",
    "\n",
    "\n",
    "domain_node = sy.login(email=\"info@openmined.org\", password=\"changethis\", port=8081)\n",
    "domain_node.load_dataset(assets=dataset, name=\"COVID19 Test Results\", description=\"Positive/Negative COVID19 Test results\", metadata=\"No metadata\")"
   ]
  },
  {
   "cell_type": "code",
   "execution_count": 68,
   "id": "7897821f-f3e2-4c89-9c09-060318385142",
   "metadata": {},
   "outputs": [
    {
     "data": {
      "text/html": [
       "<style>\n",
       "                #myInput {\n",
       "                  background-position: 10px 12px; /* Position the search icon */\n",
       "                  background-repeat: no-repeat; /* Do not repeat the icon image */\n",
       "                  background-color: #bbb;\n",
       "                  width: 98%; /* Full-width */\n",
       "                  font-size: 14px; /* Increase font-size */\n",
       "                  padding: 12px 20px 12px 40px; /* Add some padding */\n",
       "                  border: 1px solid #ddd; /* Add a grey border */\n",
       "                  margin-bottom: 12px; /* Add some space below the input */\n",
       "                }\n",
       "\n",
       "                #myTable {\n",
       "                  border-collapse: collapse; /* Collapse borders */\n",
       "                  width: 100%; /* Full-width */\n",
       "                  border: 1px solid #ddd; /* Add a grey border */\n",
       "                  font-size: 14px; /* Increase font-size */\n",
       "                }\n",
       "\n",
       "                #myTable th, #myTable td {\n",
       "                  text-align: left; /* Left-align text */\n",
       "                  padding: 10px; /* Add padding */\n",
       "                }\n",
       "\n",
       "                #myTable tr {\n",
       "                  /* Add a bottom border to all table rows */\n",
       "                  border-bottom: 1px solid #ddd;\n",
       "                }\n",
       "\n",
       "                #myTable tr.header, #myTable tr:hover {\n",
       "                  /* Add a grey background color to the table header and on hover */\n",
       "                  background-color: #777;\n",
       "                }\n",
       "                </style>\n",
       "\n",
       "                <input type=\"text\" id=\"myInput\" onkeyup=\"myFunction()\" placeholder=\"Search for datasets..\">\n",
       "\n",
       "                <table id=\"myTable\">\n",
       "                  <tr class=\"header\">\n",
       "                    <th style=\"width:30px\">Idx</th>\n",
       "                    <th style=\"width:20%;\">Name</th>\n",
       "                    <th style=\"width:35%;\">Description</th>\n",
       "                    <th style=\"width:20%;\">Assets</th>\n",
       "                    <th style=\"width:300px;\">Id</th>\n",
       "                  </tr>\n",
       "                \n",
       "\n",
       "          <tr>\n",
       "            <td>[0]</td>\n",
       "            <td>COVID19 Test Results</td>\n",
       "            <td>Positive/Negative COVID19 Test results</td>\n",
       "            <td>[\"0\"] -> Tensor<br /><br />[\"1\"] -> Tensor<br /><br />[\"2\"] -> Tensor<br /><br />[\"3\"] -> Tensor<br /><br />[\"4\"] -> Tensor<br /><br />[\"5\"] -> Tensor<br /><br />[\"6\"] -> Tensor<br /><br />[\"7\"] -> Tensor<br /><br />[\"8\"] -> Tensor<br /><br />[\"9\"] -> Tensor<br /><br /></td>\n",
       "            <td>3de3d35a-5c22-44e8-8aef-b24df4c2c07d</td>\n",
       "          </tr>\n",
       "        </table>\n",
       "\n",
       "        <script>\n",
       "        function myFunction() {\n",
       "          // Declare variables\n",
       "          var input, filter, table, tr, td, i, txtValue;\n",
       "          input = document.getElementById(\"myInput\");\n",
       "          filter = input.value.toUpperCase();\n",
       "          table = document.getElementById(\"myTable\");\n",
       "          tr = table.getElementsByTagName(\"tr\");\n",
       "\n",
       "          // Loop through all table rows, and hide those who don't match the search query\n",
       "          for (i = 0; i < tr.length; i++) {\n",
       "            name_td = tr[i].getElementsByTagName(\"td\")[1];\n",
       "            desc_td = tr[i].getElementsByTagName(\"td\")[2];\n",
       "            asset_td = tr[i].getElementsByTagName(\"td\")[3];\n",
       "            id_td = tr[i].getElementsByTagName(\"td\")[4];\n",
       "            if (name_td || desc_td || asset_td || id_td) {\n",
       "              name_txtValue = name_td.textContent || name_td.innerText;\n",
       "              desc_txtValue = desc_td.textContent || name_td.innerText;\n",
       "              asset_txtValue = asset_td.textContent || name_td.innerText;\n",
       "              id_txtValue = id_td.textContent || name_td.innerText;\n",
       "              name_bool = name_txtValue.toUpperCase().indexOf(filter) > -1;\n",
       "              desc_bool = desc_txtValue.toUpperCase().indexOf(filter) > -1;\n",
       "              asset_bool = asset_txtValue.toUpperCase().indexOf(filter) > -1;\n",
       "              id_bool = id_txtValue.toUpperCase().indexOf(filter) > -1;\n",
       "              if (name_bool || desc_bool || asset_bool || id_bool) {\n",
       "                tr[i].style.display = \"\";\n",
       "              } else {\n",
       "                tr[i].style.display = \"none\";\n",
       "              }\n",
       "            }\n",
       "          }\n",
       "        }\n",
       "        </script>"
      ],
      "text/plain": [
       "<syft.core.node.common.client_manager.dataset_api.DatasetRequestAPI at 0x7fea987f2be0>"
      ]
     },
     "execution_count": 68,
     "metadata": {},
     "output_type": "execute_result"
    }
   ],
   "source": [
    "domain_node.datasets"
   ]
  },
  {
   "cell_type": "markdown",
   "id": "9f91afa3-3538-48a4-a7c4-1db66576427b",
   "metadata": {},
   "source": [
    "## 8. Pretend to be a Customer\n",
    "Create a data scientist account, and ask to use the dataset in this domain node!"
   ]
  },
  {
   "cell_type": "code",
   "execution_count": 70,
   "id": "f1f6b272-e52c-46d8-b80c-f24796609e22",
   "metadata": {},
   "outputs": [],
   "source": [
    "domain_node.users.create(\n",
    "    **{\n",
    "        \"name\": \"Sheldon Cooper\",\n",
    "        \"email\": \"sheldon@caltech.edu\",\n",
    "        \"password\": \"bazinga\",\n",
    "        \"budget\": 100\n",
    "    }\n",
    ")"
   ]
  },
  {
   "cell_type": "markdown",
   "id": "d06f9753-41e3-4359-802f-c5c46836cb5f",
   "metadata": {},
   "source": [
    "Let's quickly double check that the Data Scientist account was created properly, by checking the list of users:"
   ]
  },
  {
   "cell_type": "code",
   "execution_count": 71,
   "id": "57b34d8f-0988-425c-bc12-64704e3d23e2",
   "metadata": {},
   "outputs": [
    {
     "data": {
      "text/html": [
       "<div>\n",
       "<style scoped>\n",
       "    .dataframe tbody tr th:only-of-type {\n",
       "        vertical-align: middle;\n",
       "    }\n",
       "\n",
       "    .dataframe tbody tr th {\n",
       "        vertical-align: top;\n",
       "    }\n",
       "\n",
       "    .dataframe thead th {\n",
       "        text-align: right;\n",
       "    }\n",
       "</style>\n",
       "<table border=\"1\" class=\"dataframe\">\n",
       "  <thead>\n",
       "    <tr style=\"text-align: right;\">\n",
       "      <th></th>\n",
       "      <th>added_by</th>\n",
       "      <th>allocated_budget</th>\n",
       "      <th>budget</th>\n",
       "      <th>budget_spent</th>\n",
       "      <th>created_at</th>\n",
       "      <th>daa_pdf</th>\n",
       "      <th>email</th>\n",
       "      <th>id</th>\n",
       "      <th>institution</th>\n",
       "      <th>name</th>\n",
       "      <th>role</th>\n",
       "      <th>verify_key</th>\n",
       "      <th>website</th>\n",
       "    </tr>\n",
       "  </thead>\n",
       "  <tbody>\n",
       "    <tr>\n",
       "      <th>0</th>\n",
       "      <td>&lt;syft.lib.python._SyNone object at 0x7feaa814d...</td>\n",
       "      <td>0.0</td>\n",
       "      <td>5.55</td>\n",
       "      <td>0.0</td>\n",
       "      <td>2021-11-01 05:24:06.991358</td>\n",
       "      <td>&lt;syft.lib.python._SyNone object at 0x7feaa814d...</td>\n",
       "      <td>info@openmined.org</td>\n",
       "      <td>1</td>\n",
       "      <td>&lt;syft.lib.python._SyNone object at 0x7feaa814d...</td>\n",
       "      <td>Jane Doe</td>\n",
       "      <td>Owner</td>\n",
       "      <td>e07db5d214010770d9146551d4dc4f3daf1bb7d9c89e66...</td>\n",
       "      <td>&lt;syft.lib.python._SyNone object at 0x7feaa814d...</td>\n",
       "    </tr>\n",
       "    <tr>\n",
       "      <th>1</th>\n",
       "      <td>Jane Doe</td>\n",
       "      <td>0.0</td>\n",
       "      <td>100.00</td>\n",
       "      <td>0.0</td>\n",
       "      <td>2021-11-01 05:27:59.352133</td>\n",
       "      <td>1</td>\n",
       "      <td>sheldon@caltech.edu</td>\n",
       "      <td>2</td>\n",
       "      <td></td>\n",
       "      <td>Sheldon Cooper</td>\n",
       "      <td>Data Scientist</td>\n",
       "      <td>eff162ee3f57400fb11d204cdbfd625d58b229901fdb23...</td>\n",
       "      <td></td>\n",
       "    </tr>\n",
       "  </tbody>\n",
       "</table>\n",
       "</div>"
      ],
      "text/plain": [
       "<syft.core.node.common.client_manager.user_api.UserRequestAPI at 0x7fea987f2b20>"
      ]
     },
     "execution_count": 71,
     "metadata": {},
     "output_type": "execute_result"
    }
   ],
   "source": [
    "domain_node.users"
   ]
  },
  {
   "cell_type": "markdown",
   "id": "19466d56-82bd-4d6d-afc0-d3a94ddea8d5",
   "metadata": {},
   "source": [
    "## 9. Log into the Domain Node, as the Data Scientist"
   ]
  },
  {
   "cell_type": "code",
   "execution_count": 72,
   "id": "6f6e9aba-d09c-45a4-ae03-e08feff36530",
   "metadata": {},
   "outputs": [
    {
     "name": "stdout",
     "output_type": "stream",
     "text": [
      "Connecting to http://localhost:8081... done! \t Logging into adp... done!\n"
     ]
    }
   ],
   "source": [
    "ds_node = sy.login(email=\"sheldon@caltech.edu\", password=\"bazinga\", port=8081)"
   ]
  },
  {
   "cell_type": "markdown",
   "id": "65d84a3b-0944-4fd7-bb7c-5b9771944cdf",
   "metadata": {},
   "source": [
    "## 10. View the available datasets on the Node"
   ]
  },
  {
   "cell_type": "code",
   "execution_count": 73,
   "id": "460dd876-3061-4a66-afd9-7d8e922a1f2e",
   "metadata": {},
   "outputs": [
    {
     "data": {
      "text/html": [
       "<style>\n",
       "                #myInput {\n",
       "                  background-position: 10px 12px; /* Position the search icon */\n",
       "                  background-repeat: no-repeat; /* Do not repeat the icon image */\n",
       "                  background-color: #bbb;\n",
       "                  width: 98%; /* Full-width */\n",
       "                  font-size: 14px; /* Increase font-size */\n",
       "                  padding: 12px 20px 12px 40px; /* Add some padding */\n",
       "                  border: 1px solid #ddd; /* Add a grey border */\n",
       "                  margin-bottom: 12px; /* Add some space below the input */\n",
       "                }\n",
       "\n",
       "                #myTable {\n",
       "                  border-collapse: collapse; /* Collapse borders */\n",
       "                  width: 100%; /* Full-width */\n",
       "                  border: 1px solid #ddd; /* Add a grey border */\n",
       "                  font-size: 14px; /* Increase font-size */\n",
       "                }\n",
       "\n",
       "                #myTable th, #myTable td {\n",
       "                  text-align: left; /* Left-align text */\n",
       "                  padding: 10px; /* Add padding */\n",
       "                }\n",
       "\n",
       "                #myTable tr {\n",
       "                  /* Add a bottom border to all table rows */\n",
       "                  border-bottom: 1px solid #ddd;\n",
       "                }\n",
       "\n",
       "                #myTable tr.header, #myTable tr:hover {\n",
       "                  /* Add a grey background color to the table header and on hover */\n",
       "                  background-color: #777;\n",
       "                }\n",
       "                </style>\n",
       "\n",
       "                <input type=\"text\" id=\"myInput\" onkeyup=\"myFunction()\" placeholder=\"Search for datasets..\">\n",
       "\n",
       "                <table id=\"myTable\">\n",
       "                  <tr class=\"header\">\n",
       "                    <th style=\"width:30px\">Idx</th>\n",
       "                    <th style=\"width:20%;\">Name</th>\n",
       "                    <th style=\"width:35%;\">Description</th>\n",
       "                    <th style=\"width:20%;\">Assets</th>\n",
       "                    <th style=\"width:300px;\">Id</th>\n",
       "                  </tr>\n",
       "                \n",
       "\n",
       "          <tr>\n",
       "            <td>[0]</td>\n",
       "            <td>COVID19 Test Results</td>\n",
       "            <td>Positive/Negative COVID19 Test results</td>\n",
       "            <td>[\"0\"] -> Tensor<br /><br />[\"1\"] -> Tensor<br /><br />[\"2\"] -> Tensor<br /><br />[\"3\"] -> Tensor<br /><br />[\"4\"] -> Tensor<br /><br />[\"5\"] -> Tensor<br /><br />[\"6\"] -> Tensor<br /><br />[\"7\"] -> Tensor<br /><br />[\"8\"] -> Tensor<br /><br />[\"9\"] -> Tensor<br /><br /></td>\n",
       "            <td>3de3d35a-5c22-44e8-8aef-b24df4c2c07d</td>\n",
       "          </tr>\n",
       "        </table>\n",
       "\n",
       "        <script>\n",
       "        function myFunction() {\n",
       "          // Declare variables\n",
       "          var input, filter, table, tr, td, i, txtValue;\n",
       "          input = document.getElementById(\"myInput\");\n",
       "          filter = input.value.toUpperCase();\n",
       "          table = document.getElementById(\"myTable\");\n",
       "          tr = table.getElementsByTagName(\"tr\");\n",
       "\n",
       "          // Loop through all table rows, and hide those who don't match the search query\n",
       "          for (i = 0; i < tr.length; i++) {\n",
       "            name_td = tr[i].getElementsByTagName(\"td\")[1];\n",
       "            desc_td = tr[i].getElementsByTagName(\"td\")[2];\n",
       "            asset_td = tr[i].getElementsByTagName(\"td\")[3];\n",
       "            id_td = tr[i].getElementsByTagName(\"td\")[4];\n",
       "            if (name_td || desc_td || asset_td || id_td) {\n",
       "              name_txtValue = name_td.textContent || name_td.innerText;\n",
       "              desc_txtValue = desc_td.textContent || name_td.innerText;\n",
       "              asset_txtValue = asset_td.textContent || name_td.innerText;\n",
       "              id_txtValue = id_td.textContent || name_td.innerText;\n",
       "              name_bool = name_txtValue.toUpperCase().indexOf(filter) > -1;\n",
       "              desc_bool = desc_txtValue.toUpperCase().indexOf(filter) > -1;\n",
       "              asset_bool = asset_txtValue.toUpperCase().indexOf(filter) > -1;\n",
       "              id_bool = id_txtValue.toUpperCase().indexOf(filter) > -1;\n",
       "              if (name_bool || desc_bool || asset_bool || id_bool) {\n",
       "                tr[i].style.display = \"\";\n",
       "              } else {\n",
       "                tr[i].style.display = \"none\";\n",
       "              }\n",
       "            }\n",
       "          }\n",
       "        }\n",
       "        </script>"
      ],
      "text/plain": [
       "<syft.core.node.common.client_manager.dataset_api.DatasetRequestAPI at 0x7fea983623d0>"
      ]
     },
     "execution_count": 73,
     "metadata": {},
     "output_type": "execute_result"
    }
   ],
   "source": [
    "ds_node.datasets"
   ]
  },
  {
   "cell_type": "code",
   "execution_count": 74,
   "id": "c78c1c88-cc0a-4225-8605-b79890526bb7",
   "metadata": {},
   "outputs": [],
   "source": [
    "# Let's get a pointer to the dataset\n",
    "dataset = ds_node.datasets[0]"
   ]
  },
  {
   "cell_type": "markdown",
   "id": "1d3a6d18-99f2-4397-bfd1-95e513b07f42",
   "metadata": {},
   "source": [
    "<b> Let's try to find out how many people in this dataset had COVID19... </b>"
   ]
  },
  {
   "cell_type": "code",
   "execution_count": 79,
   "id": "c892ec52-d431-4c46-9519-de07dbcd791c",
   "metadata": {},
   "outputs": [
    {
     "name": "stdout",
     "output_type": "stream",
     "text": [
      "Dataset: COVID19 Test Results\n",
      "Description: Positive/Negative COVID19 Test results\n",
      "\n"
     ]
    },
    {
     "data": {
      "text/html": [
       "<style>\n",
       "        #myInput {\n",
       "          background-position: 10px 12px; /* Position the search icon */\n",
       "          background-repeat: no-repeat; /* Do not repeat the icon image */\n",
       "          background-color: #bbb;\n",
       "          width: 98%; /* Full-width */\n",
       "          font-size: 14px; /* Increase font-size */\n",
       "          padding: 12px 20px 12px 40px; /* Add some padding */\n",
       "          border: 1px solid #ddd; /* Add a grey border */\n",
       "          margin-bottom: 12px; /* Add some space below the input */\n",
       "        }\n",
       "\n",
       "        #myTable {\n",
       "          border-collapse: collapse; /* Collapse borders */\n",
       "          width: 50%; /* Full-width */\n",
       "          border: 1px solid #ddd; /* Add a grey border */\n",
       "          font-size: 14px; /* Increase font-size */\n",
       "        }\n",
       "\n",
       "        #myTable th, #myTable td {\n",
       "          text-align: left; /* Left-align text */\n",
       "          padding: 10px; /* Add padding */\n",
       "        }\n",
       "\n",
       "        #myTable tr {\n",
       "          /* Add a bottom border to all table rows */\n",
       "          border-bottom: 1px solid #ddd;\n",
       "        }\n",
       "\n",
       "        #myTable tr.header, #myTable tr:hover {\n",
       "          /* Add a grey background color to the table header and on hover */\n",
       "          background-color: #777;\n",
       "        }\n",
       "        </style>\n",
       "\n",
       "        <table id=\"myTable\">\n",
       "          <tr class=\"header\">\n",
       "            <th style=\"width:15%;\">Asset Key</th>\n",
       "            <th style=\"width:20%;\">Type</th>\n",
       "            <th style=\"width:10%;\">Shape</th>\n",
       "          </tr>\n",
       "        \n",
       "\n",
       "              <tr>\n",
       "            <td>[\"0\"]</td>\n",
       "            <td>Tensor</td>\n",
       "            <td>(1,)</td>\n",
       "          </tr>\n",
       "\n",
       "              <tr>\n",
       "            <td>[\"1\"]</td>\n",
       "            <td>Tensor</td>\n",
       "            <td>(1,)</td>\n",
       "          </tr>\n",
       "\n",
       "              <tr>\n",
       "            <td>[\"2\"]</td>\n",
       "            <td>Tensor</td>\n",
       "            <td>(1,)</td>\n",
       "          </tr>\n",
       "\n",
       "              <tr>\n",
       "            <td>[\"3\"]</td>\n",
       "            <td>Tensor</td>\n",
       "            <td>(1,)</td>\n",
       "          </tr>\n",
       "\n",
       "              <tr>\n",
       "            <td>[\"4\"]</td>\n",
       "            <td>Tensor</td>\n",
       "            <td>(1,)</td>\n",
       "          </tr>\n",
       "\n",
       "              <tr>\n",
       "            <td>[\"5\"]</td>\n",
       "            <td>Tensor</td>\n",
       "            <td>(1,)</td>\n",
       "          </tr>\n",
       "\n",
       "              <tr>\n",
       "            <td>[\"6\"]</td>\n",
       "            <td>Tensor</td>\n",
       "            <td>(1,)</td>\n",
       "          </tr>\n",
       "\n",
       "              <tr>\n",
       "            <td>[\"7\"]</td>\n",
       "            <td>Tensor</td>\n",
       "            <td>(1,)</td>\n",
       "          </tr>\n",
       "\n",
       "              <tr>\n",
       "            <td>[\"8\"]</td>\n",
       "            <td>Tensor</td>\n",
       "            <td>(1,)</td>\n",
       "          </tr>\n",
       "\n",
       "              <tr>\n",
       "            <td>[\"9\"]</td>\n",
       "            <td>Tensor</td>\n",
       "            <td>(1,)</td>\n",
       "          </tr>\n",
       "        </table>\n",
       "\n",
       "        "
      ],
      "text/plain": [
       "<syft.core.node.common.client_manager.dataset_api.Dataset at 0x7fea9a251040>"
      ]
     },
     "execution_count": 79,
     "metadata": {},
     "output_type": "execute_result"
    }
   ],
   "source": [
    "dataset"
   ]
  },
  {
   "cell_type": "markdown",
   "id": "e5445d93-f69e-4355-9364-803e87fd1f4f",
   "metadata": {},
   "source": [
    "Let's try to see if we, as the Data Scientist, working with this remote dataset, can see what it looks like by printing it."
   ]
  },
  {
   "cell_type": "code",
   "execution_count": 75,
   "id": "5472091f-77d8-48b3-97a4-626be53212d0",
   "metadata": {},
   "outputs": [
    {
     "name": "stdout",
     "output_type": "stream",
     "text": [
      "<syft.core.node.common.client_manager.dataset_api.Dataset object at 0x7fea9a251040>\n"
     ]
    }
   ],
   "source": [
    "print(dataset)"
   ]
  },
  {
   "cell_type": "markdown",
   "id": "95f8e6e0-ee50-447b-9e65-0f065a074686",
   "metadata": {},
   "source": [
    "Now, normally, if we had a Tensor object (such as the ones from PyTorch or Tensorflow), we'd be able to print it and look at it. However, as you can see, this returns a Dataset object "
   ]
  },
  {
   "cell_type": "code",
   "execution_count": 77,
   "id": "f7d1c18f-3b62-405f-8117-1298f15c97e8",
   "metadata": {},
   "outputs": [],
   "source": [
    "results = [dataset[f'{i}'] for i in range(10)]"
   ]
  },
  {
   "cell_type": "code",
   "execution_count": 82,
   "id": "f04528cb-889a-427d-8206-cdc4a9849486",
   "metadata": {},
   "outputs": [],
   "source": [
    "from time import sleep\n",
    "total_cases = 0\n",
    "for result in results:\n",
    "    ptr = result.publish()\n",
    "    sleep(1)\n",
    "    total_cases += ptr.get()"
   ]
  },
  {
   "cell_type": "code",
   "execution_count": 84,
   "id": "3de09812-7342-4200-a710-9955feeb5cb9",
   "metadata": {},
   "outputs": [
    {
     "name": "stdout",
     "output_type": "stream",
     "text": [
      "The total number of COVID19 cases are: 6.811603905014408\n"
     ]
    }
   ],
   "source": [
    "print(f'The total number of COVID19 cases are: {total_cases[0]}')"
   ]
  },
  {
   "cell_type": "markdown",
   "id": "dfd11b6c-6c24-4c9e-b774-fc4738f42722",
   "metadata": {},
   "source": [
    "## 11. Shut down your Domain Node\n",
    "Open a new terminal window with the virtual environment active:"
   ]
  },
  {
   "cell_type": "markdown",
   "id": "e9cd70e2-cf53-4847-b81c-f26022d43cc8",
   "metadata": {},
   "source": [
    "```\n",
    "conda activate lab\n",
    "```"
   ]
  },
  {
   "cell_type": "markdown",
   "id": "ff905233-f95c-46f1-aef6-67f845bc54e1",
   "metadata": {},
   "source": [
    "Run this command in your terminal:"
   ]
  },
  {
   "cell_type": "markdown",
   "id": "04dc6e2a-7aec-4218-8ae8-7391111beab7",
   "metadata": {},
   "source": [
    "```\n",
    "hagrid land all\n",
    "```"
   ]
  },
  {
   "cell_type": "markdown",
   "id": "163576c5-e278-4a91-91bd-6986f1e34c41",
   "metadata": {},
   "source": [
    "# <marquee> CONGRATULATIONS! </marquee>"
   ]
  },
  {
   "cell_type": "code",
   "execution_count": null,
   "id": "a059cff0-c05c-4640-b96f-8c2fbbf904f1",
   "metadata": {},
   "outputs": [],
   "source": []
  }
 ],
 "metadata": {
  "kernelspec": {
   "display_name": "Python 3 (ipykernel)",
   "language": "python",
   "name": "python3"
  },
  "language_info": {
   "codemirror_mode": {
    "name": "ipython",
    "version": 3
   },
   "file_extension": ".py",
   "mimetype": "text/x-python",
   "name": "python",
   "nbconvert_exporter": "python",
   "pygments_lexer": "ipython3",
   "version": "3.9.7"
  }
 },
 "nbformat": 4,
 "nbformat_minor": 5
}
